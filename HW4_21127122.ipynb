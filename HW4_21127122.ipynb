{
 "cells": [
  {
   "cell_type": "markdown",
   "metadata": {},
   "source": [
    "# Homework 4\n",
    "\n",
    "\n",
    "Hồ Thanh Nhân - 21127122\n",
    "\n",
    "---"
   ]
  },
  {
   "cell_type": "markdown",
   "metadata": {},
   "source": [
    "### Import neccessary libraries"
   ]
  },
  {
   "cell_type": "code",
   "execution_count": 73,
   "metadata": {},
   "outputs": [],
   "source": [
    "# Install scipy by the reference from this link: https://scipy.org/install/\n",
    "\n",
    "from scipy import optimize\n",
    "import math"
   ]
  },
  {
   "cell_type": "markdown",
   "metadata": {},
   "source": [
    "# Generalization Error"
   ]
  },
  {
   "cell_type": "markdown",
   "metadata": {},
   "source": [
    "## 1. [1]\n",
    "\n",
    "For $N > d_{VC}$, we have the approximation: $m_{\\cal{H}}(N) = N^{d_{VC}} \\Leftrightarrow m_{\\cal{H}}(2N) = (2N)^{d_{VC}}$\n",
    "\n",
    "We also have $d_{VC} = 10$\n",
    "\n",
    "\"$95 \\%$ confidence that your generalization error is at most $0.05$\" means: $\\delta = 1 - 0.95 = 0.05$ and $\\epsilon = 0.05$\n",
    "\n",
    "The VC generalization bound is given by: $\\epsilon \\le \\sqrt{\\frac{8}{N}\\ln{\\frac{4m_{\\cal{H}}(2N)}{\\delta}}}$\n",
    "\n",
    "Now, we will find the value of $N$ that satisfies the above inequality, and $N$ is the base to find the closest numerical approximation of the sample size that the VC generalization bound predicts.\n",
    "\n",
    "Let's manipulate the inquality to an equality yields: $\\epsilon = \\sqrt{\\frac{8}{N}\\ln{\\frac{4m_{\\cal{H}}(2N)}{\\delta}}}$\n",
    "\n",
    "$\\Leftrightarrow \\sqrt{\\frac{8}{N}\\ln{\\frac{4m_{\\cal{H}}(2N)}{\\delta}}} - \\epsilon = 0$\n",
    "\n",
    "Let function $f$: $f(N) = \\sqrt{\\frac{8}{N}\\ln{\\frac{4m_{\\cal{H}}(2N)}{\\delta}}} - \\epsilon = 0$"
   ]
  },
  {
   "cell_type": "markdown",
   "metadata": {},
   "source": [
    "#### Function f(N)"
   ]
  },
  {
   "cell_type": "code",
   "execution_count": 74,
   "metadata": {},
   "outputs": [],
   "source": [
    "def f(N, d_VC, delta, epsilon):\n",
    "    return math.sqrt(8 / N * math.log(4 / delta * (2 * N)**d_VC)) - epsilon"
   ]
  },
  {
   "cell_type": "markdown",
   "metadata": {},
   "source": [
    "#### Find N"
   ]
  },
  {
   "cell_type": "code",
   "execution_count": 75,
   "metadata": {},
   "outputs": [
    {
     "name": "stdout",
     "output_type": "stream",
     "text": [
      "Value of N is:  452957\n"
     ]
    }
   ],
   "source": [
    "# set the intervals (based on the multiple-choice answers)\n",
    "MIN_N = 380000\n",
    "MAX_N = 500000\n",
    "\n",
    "d_VC = 10\n",
    "delta = 0.05\n",
    "epsilon = 0.05\n",
    "root = optimize.brentq(f, MIN_N, MAX_N, args = (d_VC, delta, epsilon))\n",
    "print('Value of N is: ', round(root))"
   ]
  },
  {
   "cell_type": "markdown",
   "metadata": {},
   "source": [
    "#### Conclusion\n",
    "\n",
    "Therefore, the closest numerical approximation of the sample size is [d] 460,000"
   ]
  },
  {
   "cell_type": "markdown",
   "metadata": {},
   "source": [
    "## 2.\n",
    "\n",
    "\n",
    "We have:\n",
    "\n",
    "- $d_{VC} = 50$\n",
    "\n",
    "- $\\delta = 0.05$\n",
    "\n",
    "- $N = 10,000$\n",
    "\n",
    "- $m_{\\cal{H}}(N) = N^{d_{VC}} \\Leftrightarrow m_{\\cal{H}}(2N) = (2N)^{d_{VC}}$"
   ]
  },
  {
   "cell_type": "code",
   "execution_count": 76,
   "metadata": {},
   "outputs": [],
   "source": [
    "d_VC = 50\n",
    "delta = 0.05\n",
    "N = 10000"
   ]
  },
  {
   "cell_type": "markdown",
   "metadata": {},
   "source": [
    "Let's calculate the bound in each answer ($f(N)$):"
   ]
  },
  {
   "cell_type": "markdown",
   "metadata": {},
   "source": [
    "### [a] Original VC bound"
   ]
  },
  {
   "cell_type": "markdown",
   "metadata": {},
   "source": [
    "#### Function"
   ]
  },
  {
   "cell_type": "code",
   "execution_count": 77,
   "metadata": {},
   "outputs": [],
   "source": [
    "def f_original_VC(N=N, d_VC=d_VC, delta=delta):\n",
    "    return math.sqrt(8 / N * math.log(4 / delta * (2 * N) ** d_VC))"
   ]
  },
  {
   "cell_type": "code",
   "execution_count": 78,
   "metadata": {},
   "outputs": [
    {
     "name": "stdout",
     "output_type": "stream",
     "text": [
      "f(N) = 0.632174915200836\n"
     ]
    }
   ],
   "source": [
    "print('f(N) =', f_original_VC())"
   ]
  },
  {
   "cell_type": "markdown",
   "metadata": {},
   "source": [
    "### [b] Rademacher Penalty Bound"
   ]
  },
  {
   "cell_type": "markdown",
   "metadata": {},
   "source": [
    "#### Function"
   ]
  },
  {
   "cell_type": "code",
   "execution_count": 79,
   "metadata": {},
   "outputs": [],
   "source": [
    "def f_Rademacher_Penalty(N=N, d_VC=d_VC, delta=delta):\n",
    "    return math.sqrt(2 / N * math.log(2 * N * (N ** d_VC))) + math.sqrt(2 / N * math.log(1 / delta)) + 1 / N"
   ]
  },
  {
   "cell_type": "code",
   "execution_count": 80,
   "metadata": {},
   "outputs": [
    {
     "name": "stdout",
     "output_type": "stream",
     "text": [
      "f(N) = 0.3313087859616395\n"
     ]
    }
   ],
   "source": [
    "print('f(N) =', f_Rademacher_Penalty())"
   ]
  },
  {
   "cell_type": "markdown",
   "metadata": {},
   "source": [
    "### [c] Parrondo and Van den Broek"
   ]
  },
  {
   "cell_type": "markdown",
   "metadata": {},
   "source": [
    "#### Function\n",
    "\n",
    "Similar to Problem 1, we will consider equality functions"
   ]
  },
  {
   "cell_type": "code",
   "execution_count": 81,
   "metadata": {},
   "outputs": [],
   "source": [
    "def f_Parrondo_and_Van_den_Broek(epsilon, N=N, d_VC=d_VC, delta=delta):\n",
    "    return math.sqrt(1 / N * (2 * epsilon + math.log(6 / delta * (2 * N) ** d_VC))) - epsilon"
   ]
  },
  {
   "cell_type": "markdown",
   "metadata": {},
   "source": [
    "#### Find $\\epsilon$"
   ]
  },
  {
   "cell_type": "code",
   "execution_count": 82,
   "metadata": {},
   "outputs": [
    {
     "name": "stdout",
     "output_type": "stream",
     "text": [
      "f(N) = 0.22369829368078561\n"
     ]
    }
   ],
   "source": [
    "# set the intervals\n",
    "MIN_EPSILON = 0\n",
    "MAX_EPSILON = 1\n",
    "\n",
    "f_Parrondo_and_Van_den_Broek = optimize.brentq(f_Parrondo_and_Van_den_Broek, MIN_EPSILON, MAX_EPSILON)\n",
    "print('f(N) =', f_Parrondo_and_Van_den_Broek)"
   ]
  },
  {
   "cell_type": "markdown",
   "metadata": {},
   "source": [
    "### [d] Devroye"
   ]
  },
  {
   "cell_type": "markdown",
   "metadata": {},
   "source": [
    "#### Function\n",
    "\n",
    "Similar to Problem 1, we will consider equality functions"
   ]
  },
  {
   "cell_type": "code",
   "execution_count": 92,
   "metadata": {},
   "outputs": [],
   "source": [
    "def f_Devroye(epsilon, N=N, d_VC=d_VC, delta=delta):\n",
    "    return math.sqrt((4 * epsilon * (1 + epsilon) + math.log(4 / delta) + 2 * d_VC * math.log(N)) / (2 * N)) - epsilon"
   ]
  },
  {
   "cell_type": "markdown",
   "metadata": {},
   "source": [
    "#### Find $\\epsilon$"
   ]
  },
  {
   "cell_type": "code",
   "execution_count": 93,
   "metadata": {},
   "outputs": [
    {
     "name": "stdout",
     "output_type": "stream",
     "text": [
      "f(N) = 0.21522804980824667\n"
     ]
    }
   ],
   "source": [
    "f_Devroye = optimize.brentq(f_Devroye, MIN_EPSILON, MAX_EPSILON)\n",
    "print('f(N) =', f_Devroye)"
   ]
  },
  {
   "cell_type": "markdown",
   "metadata": {},
   "source": [
    "#### Conclusion\n",
    "\n",
    "Therefore, they are not all equal and the smallest bound for $N = 10,000$ is [d] Devroye: $\\epsilon \\le \\sqrt{\\frac{1}{2N}(4 \\epsilon (1 + \\epsilon) + \\ln{\\frac{4 m_{\\cal{H}}(N^2)}{\\delta}})}$"
   ]
  },
  {
   "cell_type": "markdown",
   "metadata": {},
   "source": [
    "## 3."
   ]
  },
  {
   "cell_type": "markdown",
   "metadata": {},
   "source": [
    "# Bias and Variance"
   ]
  },
  {
   "cell_type": "markdown",
   "metadata": {},
   "source": [
    "## 4."
   ]
  },
  {
   "cell_type": "markdown",
   "metadata": {},
   "source": [
    "## 5."
   ]
  },
  {
   "cell_type": "markdown",
   "metadata": {},
   "source": [
    "## 6."
   ]
  },
  {
   "cell_type": "markdown",
   "metadata": {},
   "source": [
    "## 7."
   ]
  },
  {
   "cell_type": "markdown",
   "metadata": {},
   "source": [
    "# VC Dimension"
   ]
  },
  {
   "cell_type": "markdown",
   "metadata": {},
   "source": [
    "## 8."
   ]
  },
  {
   "cell_type": "markdown",
   "metadata": {},
   "source": [
    "## 9."
   ]
  },
  {
   "cell_type": "markdown",
   "metadata": {},
   "source": [
    "## 10."
   ]
  },
  {
   "cell_type": "markdown",
   "metadata": {},
   "source": [
    "# References:\n",
    "\n",
    "   [1] Github, Giuliano Mega, Learning From Data - Homework 3, last commit date: 10/04/2018, access date: 26/11/2023, https://rstudio-pubs-static.s3.amazonaws.com/376525_cb5ef7e87d6549af997985b5871fd822.html\n",
    "\n",
    "   [2] Github, Edgardo Deza, Problem 5, last commit date: 18/10/2017, access date: 27/11/2023, https://github.com/homefish/edX_Learning_From_Data_2017/blob/master/homework_3/homework_3_problem_5_Growth_Function.ipynb\n",
    "\n",
    "   [3] Github, Edgardo Deza, Problem 6 & Problem 7 & Problem 8, last commit date: 18/10/2017, access date: 27/11/2023, https://github.com/homefish/edX_Learning_From_Data_2017/blob/master/homework_3/homework_3_problem_6_7_8_Fun_With_Intervals.ipynb\n",
    "\n",
    "   [4] Github, Edgardo Deza, Problem 9, last commit date: 18/10/2017, access date: 27/11/2023, https://github.com/homefish/edX_Learning_From_Data_2017/blob/master/homework_3/homework_3_problem_9_Triangles.ipynb\n",
    "\n",
    "   [5] Github, Edgardo Deza, Problem 10, last commit date: 18/10/2017, access date: 27/11/2023, https://github.com/homefish/edX_Learning_From_Data_2017/blob/master/homework_3/homework_3_problem_10_Concentric_Circles.ipynb"
   ]
  }
 ],
 "metadata": {
  "kernelspec": {
   "display_name": "Python 3 (ipykernel)",
   "language": "python",
   "name": "python3"
  },
  "language_info": {
   "codemirror_mode": {
    "name": "ipython",
    "version": 3
   },
   "file_extension": ".py",
   "mimetype": "text/x-python",
   "name": "python",
   "nbconvert_exporter": "python",
   "pygments_lexer": "ipython3",
   "version": "3.11.6"
  }
 },
 "nbformat": 4,
 "nbformat_minor": 1
}
