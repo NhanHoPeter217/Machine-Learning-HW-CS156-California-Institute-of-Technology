{
 "cells": [
  {
   "cell_type": "markdown",
   "metadata": {},
   "source": [
    "# Homework 3\n",
    "\n",
    "\n",
    "Hồ Thanh Nhân - 21127122\n",
    "\n",
    "---"
   ]
  },
  {
   "cell_type": "markdown",
   "metadata": {},
   "source": [
    "### Import neccessary libraries"
   ]
  },
  {
   "cell_type": "code",
   "execution_count": 14,
   "metadata": {},
   "outputs": [],
   "source": [
    "import numpy as np"
   ]
  },
  {
   "cell_type": "markdown",
   "metadata": {},
   "source": [
    "# Generalization Error"
   ]
  },
  {
   "cell_type": "markdown",
   "metadata": {},
   "source": [
    "## 1.\n",
    "\n",
    "We set: $\\epsilon = 0.05$\n",
    "\n",
    "We have the case: $M = 1$\n",
    "\n",
    "The probability bound $2Me^{-2\\epsilon^2N}$ to be at most 0.03, it means: $2Me^{-2\\epsilon^2N} \\le 0.03$\n",
    "\n",
    "$\\Leftrightarrow e^{-2\\epsilon^2N} \\le \\frac{0.03}{2M}$\n",
    "\n",
    "$\\Leftrightarrow -2\\epsilon^2N \\le \\ln{(\\frac{0.03}{2M})}$\n",
    "\n",
    "$\\Leftrightarrow N \\ge \\frac{\\ln{(\\frac{0.03}{2M})}}{-2\\epsilon^2}$\n",
    "\n",
    "$\\Leftrightarrow N \\ge \\frac{\\ln{(0.03)} - \\ln{(2M)}}{-2\\epsilon^2}$"
   ]
  },
  {
   "cell_type": "code",
   "execution_count": 15,
   "metadata": {},
   "outputs": [],
   "source": [
    "EPSILON = 0.05\n",
    "M = 1\n",
    "def N_ge(M = 1):\n",
    "    return (np.log(0.03) - np.log(2 * M)) / ((-2) * EPSILON**2)"
   ]
  },
  {
   "cell_type": "code",
   "execution_count": 16,
   "metadata": {},
   "outputs": [
    {
     "name": "stdout",
     "output_type": "stream",
     "text": [
      "N greater than or equal to 839.9410155759853\n"
     ]
    }
   ],
   "source": [
    "# N greater than or equal to\n",
    "print(f'N greater than or equal to {N_ge(M)}')"
   ]
  },
  {
   "cell_type": "markdown",
   "metadata": {},
   "source": [
    "Therefore, the least number of examples N needed for the case $M = 1$ is [b] 1000"
   ]
  },
  {
   "cell_type": "markdown",
   "metadata": {},
   "source": [
    "## 2.\n",
    "\n",
    "$\\epsilon = 0.05$\n",
    "\n",
    "We have the case: $M = 10$"
   ]
  },
  {
   "cell_type": "code",
   "execution_count": 17,
   "metadata": {},
   "outputs": [],
   "source": [
    "M = 10"
   ]
  },
  {
   "cell_type": "code",
   "execution_count": 18,
   "metadata": {},
   "outputs": [
    {
     "name": "stdout",
     "output_type": "stream",
     "text": [
      "N greater than or equal to 1300.4580341747944\n"
     ]
    }
   ],
   "source": [
    "# N greater than or equal to\n",
    "print(f'N greater than or equal to {N_ge(M)}')"
   ]
  },
  {
   "cell_type": "markdown",
   "metadata": {},
   "source": [
    "Therefore, the least number of examples N needed for the case $M = 10$ is [c] 1500"
   ]
  },
  {
   "cell_type": "markdown",
   "metadata": {},
   "source": [
    "## 3.\n",
    "\n",
    "$\\epsilon = 0.05$\n",
    "\n",
    "We have the case: $M = 100$"
   ]
  },
  {
   "cell_type": "code",
   "execution_count": 19,
   "metadata": {},
   "outputs": [],
   "source": [
    "M = 100"
   ]
  },
  {
   "cell_type": "code",
   "execution_count": 20,
   "metadata": {},
   "outputs": [
    {
     "name": "stdout",
     "output_type": "stream",
     "text": [
      "N greater than or equal to 1760.9750527736032\n"
     ]
    }
   ],
   "source": [
    "# N greater than or equal to\n",
    "print(f'N greater than or equal to {N_ge(M)}')"
   ]
  },
  {
   "cell_type": "markdown",
   "metadata": {},
   "source": [
    "Therefore, the least number of examples N needed for the case $M = 100$ is [d] 2000"
   ]
  },
  {
   "cell_type": "markdown",
   "metadata": {},
   "source": [
    "# Break Point"
   ]
  },
  {
   "cell_type": "markdown",
   "metadata": {},
   "source": [
    "## 4."
   ]
  },
  {
   "cell_type": "markdown",
   "metadata": {},
   "source": [
    "With $N = 4$, the maximum possible dichotomies that the 2-D perceptrons can seperate is 14, which is fewer than $2^N = 2^4 = 16$. Therefore, $k = 4$ is the **break point** for the Perceptron Model in the two-dimensional case $(R^2)$.\n",
    "\n",
    "*Figure 1* displays a dichotomy formed by 4 non-collinear points, which cannot be separated by the 2-D perceptron."
   ]
  },
  {
   "cell_type": "markdown",
   "metadata": {},
   "source": [
    "In 3-D space, we can easily separate the dichotomy shown in *Figure 1* by altering the positions of the two red points to a different plane within the 3-D space, as depicted in *Figure 2*. Hence, it means that the **break point** for the 3-D perceptron is at least $k = 5$."
   ]
  },
  {
   "cell_type": "markdown",
   "metadata": {},
   "source": [
    "<div style=\"display: flex;\">\n",
    "    <div style=\"flex: 49%; padding: 5px;\">\n",
    "        <img src=\"Figure1.png\" alt=\"Figure 1\" style=\"width: 100%;\"/>\n",
    "        <p style=\"text-align: center;\"><strong>Figure 1. 4 point dichotomies in 2-D</strong></p>\n",
    "    </div>\n",
    "    <div style=\"flex: 49%; padding: 5px;\">\n",
    "        <img src=\"Figure2.png\" alt=\"Figure 2\" style=\"width: 100%;\"/>\n",
    "        <p style=\"text-align: center;\"><strong>Figure 2. 4 point dichotomies in 3-D</strong></p>\n",
    "    </div>\n",
    "</div>"
   ]
  },
  {
   "cell_type": "markdown",
   "metadata": {},
   "source": [
    "Now, let's determine if there exists configuration of 5 points can be shattered by a 3D perceptron or not.\n",
    "\n",
    "Assume we possess a collection of 5 points intended to be separated by a 3-D perceptron. It's implicit that no combination of 4 points can create a plane since the breakpoint would undoubtedly be 4.\n",
    "\n",
    "If we select any 4 points from the set of 5 points, those 4 points can form a tetrahedron. The remaining point, if outside the tetrahedron, remains unchanged. However, if it lies inside the tetrahedron, it becomes one of the tetrahedron's points, and one of the initial 4 points becomes a point outside the tetrahedron. This process is illustrated in *Figure 3* and *Figure 4*."
   ]
  },
  {
   "cell_type": "markdown",
   "metadata": {},
   "source": [
    "<div style=\"display: flex;\">\n",
    "    <div style=\"flex: 49%; padding: 5px;\">\n",
    "        <img src=\"Figure3.png\" alt=\"Figure 3\" style=\"width: 100%;\"/>\n",
    "        <p style=\"text-align: center;\"><strong>Figure 3. Tetrahedron with 1 point inside</strong></p>\n",
    "    </div>\n",
    "    <div style=\"flex: 49%; padding: 5px;\">\n",
    "        <img src=\"Figure4.png\" alt=\"Figure 4\" style=\"width: 100%;\"/>\n",
    "        <p style=\"text-align: center;\"><strong>Figure 4. Tetrahedron after reselecting to have 1 point outside.</strong></p>\n",
    "    </div>\n",
    "</div>"
   ]
  },
  {
   "cell_type": "markdown",
   "metadata": {},
   "source": [
    "*Note that Figure 3 and Figure 4 only illustrate the process of selecting a tetrahedron and one point outside, entirely separate from the proofs below."
   ]
  },
  {
   "cell_type": "markdown",
   "metadata": {},
   "source": [
    "<div style=\"display: flex;\">\n",
    "    <div style=\"flex: 49%; padding: 5px;\">\n",
    "        <img src=\"Figure5.png\" alt=\"Figure 5\" style=\"width: 50%;\"/>\n",
    "        <p style=\"text-align: left;\"><strong>Figure 5. Tetrahedron with 1 point outside</strong></p>\n",
    "    </div>\n",
    "</div>"
   ]
  },
  {
   "cell_type": "markdown",
   "metadata": {},
   "source": [
    "In Figure 5, consider the green point, and the plane (P) formed by three points: red, blue, and orange. Consider the purple point (the point on the other side of plane (P) relative to the green point). We analyze two scenarios: one where it lies within the red space originating from plane (P)(*) (Figure 6) and the other where it lies outside the red space (Figure 7)."
   ]
  },
  {
   "cell_type": "markdown",
   "metadata": {},
   "source": [
    "*(\\*) The red space originating from (P) is the interior space within the intersections of the three remaining planes of the tetrahedron.*"
   ]
  },
  {
   "cell_type": "markdown",
   "metadata": {},
   "source": [
    "<div style=\"display: flex;\">\n",
    "    <div style=\"flex: 49%; padding: 5px;\">\n",
    "        <img src=\"Figure6.png\" alt=\"Figure 6\" style=\"width: 100%;\"/>\n",
    "        <p style=\"text-align: center;\"><strong>Figure 6. The green point lies within the red space</strong></p>\n",
    "    </div>\n",
    "    <div style=\"flex: 49%; padding: 5px;\">\n",
    "        <img src=\"Figure7.png\" alt=\"Figure 7\" style=\"width: 100%;\"/>\n",
    "        <p style=\"text-align: center;\"><strong>Figure 7. The green point lies outside the red space</strong></p>\n",
    "    </div>\n",
    "</div>"
   ]
  },
  {
   "cell_type": "markdown",
   "metadata": {},
   "source": [
    "It's easy to see that there are at least 2 cases as follows: Figure 8 and Figure 9 show the dichotomy, made of 5 points (non-collinear and no combination of 4 points can create a plane), that the 3D perceptron cannot separate."
   ]
  },
  {
   "cell_type": "markdown",
   "metadata": {},
   "source": [
    "<div style=\"display: flex;\">\n",
    "    <div style=\"flex: 49%; padding: 5px;\">\n",
    "        <img src=\"Figure8.png\" alt=\"Figure 8\" style=\"width: 100%;\"/>\n",
    "        <p style=\"text-align: center;\"><strong>Figure 8. Two red points on two sides of the plane formed by three blue points, and the line connecting the two red points intersects the interior part of the triangle on the plane formed by the three blue points.</strong></p>\n",
    "    </div>\n",
    "    <div style=\"flex: 49%; padding: 5px;\">\n",
    "        <img src=\"Figure9.png\" alt=\"Figure 9\" style=\"width: 100%;\"/>\n",
    "        <p style=\"text-align: center;\"><strong>Figure 9. The blue point is inside the tetrahedron formed by four red points.</strong></p>\n",
    "    </div>\n",
    "</div>"
   ]
  },
  {
   "cell_type": "markdown",
   "metadata": {},
   "source": [
    "- In the scenario within the red space: it's evident that there exists an inseparable dichotomy by a 3-D perceptron, clearly illustrated in Figure 6a (a case of Figure 8) (1). Furthermore, we can deduce that any point outside the tetrahedron and situated within the red space defined by the remaining planes presents a similar case as depicted in Figure 6a."
   ]
  },
  {
   "cell_type": "markdown",
   "metadata": {},
   "source": [
    "<div style=\"display: flex;\">\n",
    "    <div style=\"flex: 49%; padding: 5px;\">\n",
    "        <img src=\"Figure6a.png\" alt=\"Figure 6a\" style=\"width: 50%;\"/>\n",
    "        <p style=\"text-align: left;\"><strong>Figure 6a. The scenario within the red space</strong></p>\n",
    "    </div>\n",
    "</div>"
   ]
  },
  {
   "cell_type": "markdown",
   "metadata": {},
   "source": [
    "- In the case outside the red space (illustrated in Figure 7):\n",
    "    - We consider the plane (P1) (different from (P)) formed by three points: purple, blue, orange, and examine the red point (point $\\neq$ purple point on the opposite side of plane (P1) compared to the green point) (Figure 7a). It can be easily proven that the area of green sections is always greater than 0 due to the initial assumption made about the green point concerning planes (P) and (P1). Since the area of green sections has been demonstrated as above, upon re-coloring the classification (green, red), it will fall into the scenario of Figure 8. (2)\n",
    "    - This case remains valid when considering the plane (P2) (different from (P)) formed by three points: purple, red, orange, and examining the blue point (point $\\neq$ purple point on the opposite side of plane (P2) compared to the green point) (Figure 7b)."
   ]
  },
  {
   "cell_type": "markdown",
   "metadata": {},
   "source": [
    "<div style=\"display: flex;\">\n",
    "    <div style=\"flex: 49%; padding: 5px;\">\n",
    "        <img src=\"Figure7a.png\" alt=\"Figure 7a\" style=\"width: 100%;\"/>\n",
    "        <p style=\"text-align: center;\"><strong>Figure 7a. First example of the case that is outside the red space</strong></p>\n",
    "    </div>\n",
    "    <div style=\"flex: 49%; padding: 5px;\">\n",
    "        <img src=\"Figure7b.png\" alt=\"Figure 7b\" style=\"width: 100%;\"/>\n",
    "        <p style=\"text-align: center;\"><strong>Figure 7b. Second example of the case that is outside the red space</strong></p>\n",
    "    </div>\n",
    "</div>"
   ]
  },
  {
   "cell_type": "markdown",
   "metadata": {},
   "source": [
    "After recoloring the classification, we will have Figure 7c and Figure 7d as a case of Figure 8 as follows:"
   ]
  },
  {
   "cell_type": "markdown",
   "metadata": {},
   "source": [
    "<div style=\"display: flex;\">\n",
    "    <div style=\"flex: 49%; padding: 5px;\">\n",
    "        <img src=\"Figure7c.png\" alt=\"Figure 7c\" style=\"width: 100%;\"/>\n",
    "        <p style=\"text-align: center;\"><strong>Figure 7c. Figure 7a after recoloring the classification</strong></p>\n",
    "    </div>\n",
    "    <div style=\"flex: 49%; padding: 5px;\">\n",
    "        <img src=\"Figure7d.png\" alt=\"Figure 7d\" style=\"width: 100%;\"/>\n",
    "        <p style=\"text-align: center;\"><strong>Figure 7d. Figure 7b after recoloring the classification</strong></p>\n",
    "    </div>\n",
    "</div>"
   ]
  },
  {
   "cell_type": "markdown",
   "metadata": {},
   "source": [
    "[?] In the case of Figure 7a and 7b, it represents the scenario where three points form a plane cutting through the tetrahedron. So, if there is a case where no plane can be formed by three points (including the green point) cutting through the tetrahedron, what happens then?"
   ]
  },
  {
   "cell_type": "markdown",
   "metadata": {},
   "source": [
    "$\\Rightarrow$ This case can still occur, in which case the orange point becomes an interior point of the tetrahedron formed by four points: purple, red, green, and blue (Figure 7e)."
   ]
  },
  {
   "cell_type": "markdown",
   "metadata": {},
   "source": [
    "<div style=\"display: flex;\">\n",
    "    <div style=\"flex: 49%; padding: 5px;\">\n",
    "        <img src=\"Figure7e.png\" alt=\"Figure 7e\" style=\"width: 50%;\"/>\n",
    "        <p style=\"text-align: left;\"><strong>Figure 7e. The case that no plane can be formed by 3 points (including green) cutting through the tetrahedron</strong></p>\n",
    "    </div>\n",
    "</div>"
   ]
  },
  {
   "cell_type": "markdown",
   "metadata": {},
   "source": [
    "$\\Rightarrow$ This case is exactly what is referred to in Figure 9. (3)"
   ]
  },
  {
   "cell_type": "markdown",
   "metadata": {},
   "source": [
    "We have (1) (2) (3) $\\Rightarrow$ The smallest break point for the Perceptron Model in $R^3$ is 5.\n",
    "\n",
    "Therefore, the answer is [b] 5"
   ]
  },
  {
   "cell_type": "markdown",
   "metadata": {},
   "source": [
    "# Growth Function"
   ]
  },
  {
   "cell_type": "markdown",
   "metadata": {},
   "source": [
    "## 5."
   ]
  },
  {
   "cell_type": "markdown",
   "metadata": {},
   "source": [
    "Following the theory of the growth function in slide 05.\n",
    "\n",
    "- The growth function counts the most dichotomies on any $N$ points\n",
    "\n",
    "$$m_H(N) = \\max_{x_1, \\ldots, x_N \\in \\mathcal{X}} |H(x_1, \\ldots, x_N)|$$\n",
    "\n",
    "- The growth function satisfies: $m_{H}(N) \\le 2^{N}$\n",
    "\n",
    "The main result of the slide 05:\n",
    "\n",
    "No break point $\\Rightarrow m_{H}(N) = 2^{N}$\n",
    "\n",
    "Any break point $\\Rightarrow m_{H}(N)$ is **polynomial** in $N$\n",
    "\n",
    "$N \\ge 0$"
   ]
  },
  {
   "cell_type": "markdown",
   "metadata": {},
   "source": [
    "$i)\\ 1 + N$ is a polynomial.\n",
    "\n",
    "- $2^N$ and $N + 1$ are both increasing equations for $N \\ge 0$.\n",
    "\n",
    "- $2^N$ increases more rapidly than $N + 1$ on the graph ($ N \\ge 1$).\n",
    "\n",
    "- With N = 0, N = 1: $1 + N = 2^N$\n",
    "\n",
    "- With $N \\ge 2$, $2^N$ is always greater than  $1 + N$ as shown as in the Graph i (blue graph is $2^N$ and red graph is $1 + N$).\n",
    "\n",
    "$\\Rightarrow$ Therefore, $1 + N$ is a valid growth function with the smallest break point k = 2."
   ]
  },
  {
   "cell_type": "markdown",
   "metadata": {},
   "source": [
    "<div style=\"display: flex;\">\n",
    "    <div style=\"flex: 49%; padding: 5px;\">\n",
    "        <img src=\"Graph_i.png\" alt=\"Graph i\" style=\"width: 50%;\"/>\n",
    "        <p style=\"text-align: left;\"><strong>Graph i. Graph of 2^N and N + 1 on the coordinate system</strong></p>\n",
    "    </div>\n",
    "</div>"
   ]
  },
  {
   "cell_type": "markdown",
   "metadata": {},
   "source": [
    "$ii)\\ 1 + N + {{N} \\choose 2} = \\frac{N^2}{2} + \\frac{N}{2} + 1$ is a polynomial.\n",
    "\n",
    "- $2^N$ and $\\frac{N^2}{2} + \\frac{N}{2} + 1$ are both increasing equations for $N \\ge 0$.\n",
    "\n",
    "- $2^N$ increases more rapidly than $\\frac{N^2}{2} + \\frac{N}{2} + 1$ on the graph ($ N \\ge 2$).\n",
    "\n",
    "- With N = 0, N = 1, N = 2: $\\frac{N^2}{2} + \\frac{N}{2} + 1 = 2^N$\n",
    "\n",
    "- With $N \\ge 3$, $2^N$ is always greater than  $\\frac{N^2}{2} + \\frac{N}{2} + 1$ as shown as in the Graph ii (blue graph is $2^N$ and red graph is $\\frac{N^2}{2} + \\frac{N}{2} + 1$).\n",
    "\n",
    "$\\Rightarrow$ Therefore, $\\frac{N^2}{2} + \\frac{N}{2} + 1$ is a valid growth function with the smallest break point k = 3."
   ]
  },
  {
   "cell_type": "markdown",
   "metadata": {},
   "source": [
    "<div style=\"display: flex;\">\n",
    "    <div style=\"flex: 49%; padding: 5px;\">\n",
    "        <img src=\"Graph_ii.png\" alt=\"Graph ii\" style=\"width: 50%;\"/>\n",
    "        <p style=\"text-align: left;\"><strong>Graph ii. Graph of 2^N and N^2/2 + N/2 + 1 on the coordinate system</strong></p>\n",
    "    </div>\n",
    "</div>"
   ]
  },
  {
   "cell_type": "markdown",
   "metadata": {},
   "source": [
    "$iii)\\ \\sum_{i=1}^{\\lfloor \\sqrt{N} \\rfloor} {N \\choose i}$\n",
    "\n",
    "- With N = 1, we know: $\\sum_{i=1}^{\\lfloor \\sqrt{N} \\rfloor} {N \\choose i} < 2^N$\n",
    "\n",
    "- ${N \\choose {\\lfloor \\sqrt{N} \\rfloor}} = \\frac{N(N - 1)(N - 2)...(N - ({\\lfloor \\sqrt{N} \\rfloor} - 1))}{({\\lfloor \\sqrt{N} \\rfloor})!}$ has the highest power is $N^{{\\lfloor \\sqrt{N} \\rfloor}}$ which is not polynomial.\n",
    "\n",
    "$\\Rightarrow$ Therefore, $\\sum_{i=1}^{\\lfloor \\sqrt{N} \\rfloor} {N \\choose i}$ is not a valid growth function."
   ]
  },
  {
   "cell_type": "markdown",
   "metadata": {},
   "source": [
    "$iv)\\ 2^{\\lfloor N/2 \\rfloor}$\n",
    "\n",
    "- $2^{\\lfloor N/2 \\rfloor} \\le 2^N (N \\ge 0)$ (as shown in Graph iv with blue graph is $2^N$'s and red graph is $2^{\\lfloor N/2 \\rfloor}$'s)\n",
    "\n",
    "- $2^{\\lfloor N/2 \\rfloor}$ is not a polynomial.\n",
    "\n",
    "$\\Rightarrow$ Therefore, $2^{\\lfloor N/2 \\rfloor}$ is not a valid growth function."
   ]
  },
  {
   "cell_type": "markdown",
   "metadata": {},
   "source": [
    "<div style=\"display: flex;\">\n",
    "    <div style=\"flex: 49%; padding: 5px;\">\n",
    "        <img src=\"Graph_iv.png\" alt=\"Graph iv\" style=\"width: 50%;\"/>\n",
    "        <p style=\"text-align: left;\"><strong>Graph iv</strong></p>\n",
    "    </div>\n",
    "</div>"
   ]
  },
  {
   "cell_type": "markdown",
   "metadata": {},
   "source": [
    "$v)\\ 2^N$ is valid growth function, as it is equal to $2^N$."
   ]
  },
  {
   "cell_type": "markdown",
   "metadata": {},
   "source": [
    "Therefore, i), ii), v) are valid growth functions and the answer is [b] i, ii, v"
   ]
  },
  {
   "cell_type": "markdown",
   "metadata": {},
   "source": [
    "# Fun with Intervals"
   ]
  },
  {
   "cell_type": "markdown",
   "metadata": {},
   "source": [
    "## 6.\n",
    "\n",
    "Slide 05 already mentioned about \"1-interval\" (which is known as *positive intervals*). We have $m_H(N) = {{N + 1} \\choose 2} + 1 =\\frac{N^2}{2} + \\frac{N}{2} + 1$ with the smallest break point is k = 3.\n",
    "\n",
    "With the break point k = 3 $\\Rightarrow m_H(3) = 3$, which means there is a case that *positive intervals* can't handle (Fig 1)."
   ]
  },
  {
   "cell_type": "markdown",
   "metadata": {},
   "source": [
    "<div style=\"display: flex;\">\n",
    "    <div style=\"flex: 49%; padding: 5px;\">\n",
    "        <img src=\"Fig1.png\" alt=\"Fig 1\" style=\"width: 100%;\"/>\n",
    "        <p style=\"text-align: center;\"><strong>Fig 1</strong></p>\n",
    "    </div>\n",
    "</div>"
   ]
  },
  {
   "cell_type": "markdown",
   "metadata": {},
   "source": [
    "It's clear that \"1-interval\" is a special case of \"2-intervals\" in which 2 intervals overlap.\n",
    "\n",
    "The above case in Fig 1 can be tackled by \"2-intervals\" (Fig 2)."
   ]
  },
  {
   "cell_type": "markdown",
   "metadata": {},
   "source": [
    "<div style=\"display: flex;\">\n",
    "    <div style=\"flex: 49%; padding: 5px;\">\n",
    "        <img src=\"Fig2.png\" alt=\"Fig 2\" style=\"width: 100%;\"/>\n",
    "        <p style=\"text-align: center;\"><strong>Fig 2</strong></p>\n",
    "    </div>\n",
    "</div>"
   ]
  },
  {
   "cell_type": "markdown",
   "metadata": {},
   "source": [
    "The \"2-intervals\" can also handle the case with $N = 4$. (Fig 3)"
   ]
  },
  {
   "cell_type": "markdown",
   "metadata": {},
   "source": [
    "<div style=\"display: flex;\">\n",
    "    <div style=\"flex: 49%; padding: 5px;\">\n",
    "        <img src=\"Fig3.png\" alt=\"Fig 3\" style=\"width: 100%;\"/>\n",
    "        <p style=\"text-align: center;\"><strong>Fig 3</strong></p>\n",
    "    </div>\n",
    "</div>"
   ]
  },
  {
   "cell_type": "markdown",
   "metadata": {},
   "source": [
    "With $N = 5$, there is a case that \"2-intervals\" can't tackle (Fig 4):"
   ]
  },
  {
   "cell_type": "markdown",
   "metadata": {},
   "source": [
    "<div style=\"display: flex;\">\n",
    "    <div style=\"flex: 49%; padding: 5px;\">\n",
    "        <img src=\"Fig4.png\" alt=\"Fig 4\" style=\"width: 100%;\"/>\n",
    "        <p style=\"text-align: center;\"><strong>Fig 4</strong></p>\n",
    "    </div>\n",
    "</div>"
   ]
  },
  {
   "cell_type": "markdown",
   "metadata": {},
   "source": [
    "Therefore, the (smallest) break point for hypothesis set is [c] 5"
   ]
  },
  {
   "cell_type": "markdown",
   "metadata": {},
   "source": [
    "## 7.\n",
    "\n",
    "There are 3 cases:\n",
    "\n",
    "- As the mention in Question 6, the case is about the overlap of 2 intervals, which means the same as the case of 1 interval. We know that this gives us ${{N + 1} \\choose 2}$ possible dichotomies.\n",
    "\n",
    "- Each interval is made from 2 points (start point and end point) $\\Rightarrow$ 2 intervals are made from 4 points (the non-overlaping case). Therefore, this gives us ${{N + 1} \\choose 4}$ possible dichotomies.\n",
    "\n",
    "- Finally, there is a case that 2 points of an interval which are in the same spot such that they don't contain any points. All points are not within 2 intervals such that they are classified as -1. Though there are many different spots, there is only one dichotomy $\\Rightarrow$ So we have 1 more possible dichotomy.\n",
    "\n",
    "According to the addition rule, we have: $m_H(N) = {{N + 1} \\choose 2} + {{N + 1} \\choose 4} + 1$\n",
    "\n",
    "Therefore, the answer is [c] ${{N + 1} \\choose 4} + {{N + 1} \\choose 2} + 1$"
   ]
  },
  {
   "cell_type": "markdown",
   "metadata": {},
   "source": [
    "## 8.\n",
    "\n",
    "- The break point of this hypothesis set appears when there are at least $M + 1$ separate intervals (an interval comprises one or many points which are classified as +1, we call it *positive interval*). To separating 2 intervals, we need separation points which are classified as -1 staying between 2 intervals (seperation points are also in an interval, we call it *negative interval*).\n",
    "\n",
    "- To simplify the problem, we reduce it so that every *positive interval* contains only 1 point, as does every *negative interval*.\n",
    "\n",
    "$\\Rightarrow$ The break point appears when there are at least $M + 1$ *positive interval* and $M$ *negative interval* (for separating $M + 1$ *positive intervals*). After simplify the problem, each interval represents a point $\\Rightarrow$ We have at least $2M + 1$ points to obtain a break point."
   ]
  },
  {
   "cell_type": "markdown",
   "metadata": {},
   "source": [
    "Let's check:\n",
    "\n",
    "- With \"1-interval\", we already knew that the break point is $k = 3 = 2 * 1 + 1$. (Slide 05)\n",
    "\n",
    "- With \"2-interval\", we already knew that the break point is $k = 5 = 2 * 2 + 1$ (Fig 4 in Question 6)."
   ]
  },
  {
   "cell_type": "markdown",
   "metadata": {},
   "source": [
    "Therefore, the answer is [d] 2M + 1"
   ]
  },
  {
   "cell_type": "markdown",
   "metadata": {},
   "source": [
    "# Convex Sets: The Triangle"
   ]
  },
  {
   "cell_type": "markdown",
   "metadata": {},
   "source": [
    "## 9."
   ]
  },
  {
   "cell_type": "markdown",
   "metadata": {},
   "source": [
    "# Non-Convex Sets: Concentric Circles"
   ]
  },
  {
   "cell_type": "markdown",
   "metadata": {},
   "source": [
    "## 10."
   ]
  },
  {
   "cell_type": "markdown",
   "metadata": {},
   "source": [
    "## 7-10. "
   ]
  },
  {
   "cell_type": "markdown",
   "metadata": {},
   "source": [
    "### Import các thư viện cần thiết"
   ]
  },
  {
   "cell_type": "markdown",
   "metadata": {},
   "source": [
    "### Định nghĩa các hàm"
   ]
  },
  {
   "cell_type": "markdown",
   "metadata": {},
   "source": [
    "Hàm phát sinh ra `target_w`, véc-tơ tham số của $f$"
   ]
  },
  {
   "cell_type": "code",
   "execution_count": 21,
   "metadata": {
    "collapsed": true
   },
   "outputs": [],
   "source": [
    "def generate_target_w():\n",
    "    \"\"\"\n",
    "    Generates target_w from two random, uniformly distributed points in [-1, 1] x [-1, 1].\n",
    "    \n",
    "    Returns\n",
    "    -------\n",
    "    target_w : numpy array, shape (3, 1) \n",
    "        The vector of parameters of f.\n",
    "    \"\"\"\n",
    "    # Generate two points from a uniform distribution over [-1, 1]x[-1, 1]\n",
    "    p1 = np.random.uniform(-1, 1, 2)\n",
    "    p2 = np.random.uniform(-1, 1, 2)\n",
    "    # Compute the target W from these two points\n",
    "    target_w = np.array([p1[1] * p2[0] - p1[0] * p2[1], p2[1] - p1[1], p1[0] - p2[0]]).reshape((-1, 1))\n",
    "    \n",
    "    return target_w"
   ]
  },
  {
   "cell_type": "markdown",
   "metadata": {},
   "source": [
    "Hàm phát sinh ra tập dữ liệu"
   ]
  },
  {
   "cell_type": "code",
   "execution_count": 22,
   "metadata": {
    "collapsed": true
   },
   "outputs": [],
   "source": [
    "def generate_data(N, target_w):\n",
    "    \"\"\"\n",
    "    Generates a data set by generating random inputs and then using target_w to generate the \n",
    "    corresponding outputs.\n",
    "    \n",
    "    Parameters\n",
    "    ----------\n",
    "    N : int\n",
    "        The number of examples.\n",
    "    target_w : numpy array, shape (3, 1) \n",
    "        The vector of parameters of f.\n",
    "    \n",
    "    Returns\n",
    "    -------\n",
    "    X : numpy array, shape (N, 3)\n",
    "        The matrix of input vectors (each row corresponds to an input vector); the first column of \n",
    "        this matrix is all ones.\n",
    "    Y : numpy array, shape (N, 1)\n",
    "        The vector of outputs.        \n",
    "    \"\"\"\n",
    "    X = np.random.uniform(-1, 1, (N, 2))\n",
    "    X = np.hstack((np.ones((N, 1)), X)) # Add 'ones' column\n",
    "    Y = np.sign(np.dot(X, target_w))\n",
    "    \n",
    "    return X, Y"
   ]
  },
  {
   "cell_type": "markdown",
   "metadata": {},
   "source": [
    "Hàm chạy PLA"
   ]
  },
  {
   "cell_type": "code",
   "execution_count": 23,
   "metadata": {
    "collapsed": true
   },
   "outputs": [],
   "source": [
    "def run_PLA(X, Y):\n",
    "    \"\"\"\n",
    "    Runs PLA.\n",
    "    \n",
    "    Parameters\n",
    "    ----------\n",
    "    X : numpy array, shape (N, 3)\n",
    "        The matrix of input vectors (each row corresponds to an input vector); the first column of \n",
    "        this matrix is all ones.\n",
    "    Y : numpy array, shape (N, 1)\n",
    "        The vector of outputs.\n",
    "    \n",
    "    Returns\n",
    "    -------\n",
    "    w : numpy array, shape (3, 1) \n",
    "        The vector of parameters of g.\n",
    "    num_iterations : int\n",
    "        The number of iterations PLA takes to converge.\n",
    "    \"\"\"\n",
    "    w = np.zeros((X.shape[1], 1)) # Init w\n",
    "    iteration = 0\n",
    "    \n",
    "    # TODO\n",
    "    \n",
    "    return w, iteration"
   ]
  },
  {
   "cell_type": "markdown",
   "metadata": {},
   "source": [
    "Hàm main"
   ]
  },
  {
   "cell_type": "code",
   "execution_count": 24,
   "metadata": {
    "collapsed": true
   },
   "outputs": [],
   "source": [
    "def main(N):\n",
    "    \"\"\"\n",
    "    Parameters\n",
    "    ----------\n",
    "    N : int\n",
    "        The number of training examples.\n",
    "    \"\"\"\n",
    "    num_runs = 1000\n",
    "    avg_num_iterations = 0.0 # The average number of iterations PLA takes to converge\n",
    "    avg_test_err = 0.0 # The average test error of g - the final hypothesis picked by PLA\n",
    "    \n",
    "    for r in range(num_runs):\n",
    "        # Generate target_w\n",
    "        target_w = generate_target_w()\n",
    "        \n",
    "        # Generate training set\n",
    "        X, Y = generate_data(N, target_w)\n",
    "        \n",
    "        # Run PLA to pick g\n",
    "        w, num_iterations = run_PLA(X, Y)\n",
    "        \n",
    "        # Generate test set\n",
    "        X_test, Y_test = generate_data(10000, target_w)\n",
    "        \n",
    "        # Test g\n",
    "        test_err = np.mean(np.sign(np.dot(X_test, w)) != Y_test)\n",
    "        \n",
    "        # Update average values\n",
    "        avg_num_iterations += (num_iterations * 1.0 / num_runs)\n",
    "        avg_test_err += (test_err * 1.0 / num_runs)\n",
    "    \n",
    "    # Print results\n",
    "    print('avg_num_iterations = %f' % (avg_num_iterations))\n",
    "    print('avg_test_err = %f' % (avg_test_err))"
   ]
  },
  {
   "cell_type": "markdown",
   "metadata": {},
   "source": [
    "### Chạy"
   ]
  },
  {
   "cell_type": "code",
   "execution_count": 25,
   "metadata": {},
   "outputs": [
    {
     "name": "stdout",
     "output_type": "stream",
     "text": [
      "avg_num_iterations = 0.000000\n",
      "avg_test_err = 1.000000\n"
     ]
    }
   ],
   "source": [
    "main(N=10) # We can use `main(10)`, but `main(N=10)` is clearer"
   ]
  },
  {
   "cell_type": "markdown",
   "metadata": {},
   "source": [
    "Câu 7: ta thấy kết quả gần nhất với đáp án [b] 15.\n",
    "\n",
    "Câu 8: ta thấy kết quả gần nhất với đáp án [c] 0.1."
   ]
  },
  {
   "cell_type": "code",
   "execution_count": 26,
   "metadata": {},
   "outputs": [
    {
     "name": "stdout",
     "output_type": "stream",
     "text": [
      "avg_num_iterations = 0.000000\n",
      "avg_test_err = 1.000000\n"
     ]
    }
   ],
   "source": [
    "main(N=100)"
   ]
  },
  {
   "cell_type": "markdown",
   "metadata": {},
   "source": [
    "Câu 9: ta thấy kết quả gần nhất với đáp án ...\n",
    "\n",
    "Câu 10: ta thấy kết quả gần nhất với đáp án ..."
   ]
  },
  {
   "cell_type": "markdown",
   "metadata": {},
   "source": [
    "# References:\n",
    "\n",
    "   [1] Github, Florian Peter, Caltech Machine Learning Homework # 2, last commit date: 30/04/2021, access date: 13/11/2023, https://github.com/workflow/caltech-machine-learning-homework/blob/master/HW3.ipynb\n",
    "\n",
    "   [2] notebook.community, Homework files, access date: 13/11/2023, https://notebook.community/akhileshh/lfd-caltech/homework02\n",
    "\n",
    "   [3] Github, Edgardo Deza, Homework 2, Problem 3 & Problem 4, last commit date: 11/10/2017, access date: 13/11/2023, https://github.com/homefish/edX_Learning_From_Data_2017/blob/master/homework_2/homework_2_problem_3_4_Error_and_Noise.ipynb"
   ]
  }
 ],
 "metadata": {
  "kernelspec": {
   "display_name": "Python 3 (ipykernel)",
   "language": "python",
   "name": "python3"
  },
  "language_info": {
   "codemirror_mode": {
    "name": "ipython",
    "version": 3
   },
   "file_extension": ".py",
   "mimetype": "text/x-python",
   "name": "python",
   "nbconvert_exporter": "python",
   "pygments_lexer": "ipython3",
   "version": "3.11.6"
  }
 },
 "nbformat": 4,
 "nbformat_minor": 1
}
